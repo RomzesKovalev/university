{
  "nbformat": 4,
  "nbformat_minor": 0,
  "metadata": {
    "colab": {
      "provenance": [],
      "authorship_tag": "ABX9TyOyMCRukYhcV7ocJWEPz52x",
      "include_colab_link": true
    },
    "kernelspec": {
      "name": "python3",
      "display_name": "Python 3"
    },
    "language_info": {
      "name": "python"
    }
  },
  "cells": [
    {
      "cell_type": "markdown",
      "metadata": {
        "id": "view-in-github",
        "colab_type": "text"
      },
      "source": [
        "<a href=\"https://colab.research.google.com/github/RomzesKovalev/university/blob/main/extratasks/extask2.ipynb\" target=\"_parent\"><img src=\"https://colab.research.google.com/assets/colab-badge.svg\" alt=\"Open In Colab\"/></a>"
      ]
    },
    {
      "cell_type": "code",
      "execution_count": null,
      "metadata": {
        "id": "c0oqfgOsKVNH",
        "outputId": "ebb24253-adc0-4bb9-c8ae-1b67872c8424",
        "colab": {
          "base_uri": "https://localhost:8080/"
        }
      },
      "outputs": [
        {
          "output_type": "stream",
          "name": "stdout",
          "text": [
            "Выберите функцию:\n",
            "1. Добавить контакт\n",
            "2. Удалить контакт\n",
            "3. Просмотреть телефонную книгу\n",
            "4. Изменить номер\n",
            "5. Выход\n"
          ]
        }
      ],
      "source": [
        "def standardize_phone(phone_number):\n",
        "    phone_number = phone_number.replace(\"+\", \"\").replace(\"-\", \"\").replace(\"(\", \"\").replace(\")\", \"\").replace(\" \", \"\")\n",
        "    if phone_number.startswith(\"8\"):\n",
        "        phone_number = \"+7\" + phone_number[1:]\n",
        "    elif phone_number.startswith(\"7\"):\n",
        "        phone_number = \"+\" + phone_number\n",
        "    elif len(phone_number) == 10:\n",
        "        phone_number = \"+7\" + phone_number\n",
        "    return phone_number[:12]\n",
        "\n",
        "def standardize_name(name):\n",
        "    return name.title()\n",
        "\n",
        "def add_contact(phone_book: dict) -> dict:\n",
        "    name = input('Введите имя контакта: ')\n",
        "    phone = input('Введите номер телефона в формате \"9*********\" : ')\n",
        "    standartized_name = standardize_name(name)\n",
        "    standartized_phone = standardize_phone(phone)\n",
        "    new_phone_book = phone_book.copy()\n",
        "    new_phone_book[standartized_name] = standartized_phone\n",
        "    print('Контакт успешно добавлен !')\n",
        "    return new_phone_book\n",
        "\n",
        "def delete_contact(phonebook):\n",
        "    name = input(\"Введите имя контакта для удаления: \")\n",
        "    name = standardize_name(name)\n",
        "    if name in phonebook:\n",
        "        del phonebook[name]\n",
        "        print(\"Контакт удален.\")\n",
        "    else:\n",
        "        print(\"Контакт не найден.\")\n",
        "\n",
        "def view_phonebook(phonebook):\n",
        "    if phonebook:\n",
        "        print(\"Список контактов:\")\n",
        "        for name, phone in phonebook.items():\n",
        "            print(f\"{name}: {phone}\")\n",
        "    else:\n",
        "        print(\"Телефонная книга пуста.\")\n",
        "\n",
        "def change_phone(phonebook):\n",
        "    name = input(\"Введите имя контакта для изменения номера: \")\n",
        "    name = standardize_name(name)\n",
        "    if name in phonebook:\n",
        "        while True:\n",
        "            phone = input(\"Введите новый номер телефона: \")\n",
        "            phone = standardize_phone(phone)\n",
        "            if len(phone) == 12 and phone.startswith(\"+7\"):\n",
        "              break\n",
        "            else:\n",
        "              print(\"Неверный формат номера. Попробуйте еще раз.\")\n",
        "        phonebook[name] = phone\n",
        "        print(\"Номер телефона изменен.\")\n",
        "    else:\n",
        "        print(\"Контакт не найден.\")\n",
        "\n",
        "phonebook = {}\n",
        "\n",
        "while True:\n",
        "    print(\"Выберите функцию:\")\n",
        "    print(\"1. Добавить контакт\")\n",
        "    print(\"2. Удалить контакт\")\n",
        "    print(\"3. Просмотреть телефонную книгу\")\n",
        "    print(\"4. Изменить номер\")\n",
        "    print(\"5. Выход\")\n",
        "    choice = input(\"Введите номер функции: \")\n",
        "    if choice == '1':\n",
        "        add_contact(phonebook)\n",
        "    elif choice == '2':\n",
        "        delete_contact(phonebook)\n",
        "    elif choice == '3':\n",
        "        view_phonebook(phonebook)\n",
        "    elif choice == '4':\n",
        "        change_phone(phonebook)\n",
        "    elif choice == '5':\n",
        "        break\n",
        "    else:\n",
        "        print(\"Неверный выбор. Попробуйте еще раз.\")\n",
        "\n",
        "print(\"Программа завершена.\")"
      ]
    }
  ]
}