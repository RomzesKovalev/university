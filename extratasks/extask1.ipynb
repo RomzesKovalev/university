{
  "nbformat": 4,
  "nbformat_minor": 0,
  "metadata": {
    "colab": {
      "provenance": [],
      "authorship_tag": "ABX9TyO2uEQtPy9O4PobV8t+VOEs",
      "include_colab_link": true
    },
    "kernelspec": {
      "name": "python3",
      "display_name": "Python 3"
    },
    "language_info": {
      "name": "python"
    }
  },
  "cells": [
    {
      "cell_type": "markdown",
      "metadata": {
        "id": "view-in-github",
        "colab_type": "text"
      },
      "source": [
        "<a href=\"https://colab.research.google.com/github/RomzesKovalev/university/blob/main/extratasks/extask1.ipynb\" target=\"_parent\"><img src=\"https://colab.research.google.com/assets/colab-badge.svg\" alt=\"Open In Colab\"/></a>"
      ]
    },
    {
      "cell_type": "code",
      "execution_count": null,
      "metadata": {
        "colab": {
          "base_uri": "https://localhost:8080/"
        },
        "id": "yam6mqkzVcLf",
        "outputId": "6904ef13-117b-4946-b35c-f14a830df1c2"
      },
      "outputs": [
        {
          "output_type": "stream",
          "name": "stdout",
          "text": [
            "Компьютер загадал число (100)\n"
          ]
        }
      ],
      "source": [
        "import random\n",
        "\n",
        "\n",
        "secret_number = random.randint(0, 100)\n",
        "count = 0\n",
        "print(f\"Компьютер загадал число ({secret_number})\")\n",
        "while True:\n",
        "    guess = input(\"Ввод пользователя: \")\n",
        "    if guess.lower() == 'выход':\n",
        "        print(\"Игра завершена. До свидания!\")\n",
        "        break\n",
        "    elif not guess.isdigit():\n",
        "        print(\"Некорректный ввод. Ввод пользователя не является числом, повторите попытку.\")\n",
        "        continue\n",
        "    guess = int(guess)\n",
        "    count += 1\n",
        "    if guess == secret_number:\n",
        "        print(f\"Поздравляем! Вы угадали число за {count} попыток!\")\n",
        "        break\n",
        "    elif guess < secret_number:\n",
        "        print(\"Ваше число меньше!\")\n",
        "    else:\n",
        "        print(\"Ваше число больше!\")\n"
      ]
    }
  ]
}