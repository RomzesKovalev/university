{
  "nbformat": 4,
  "nbformat_minor": 0,
  "metadata": {
    "colab": {
      "provenance": [],
      "include_colab_link": true
    },
    "kernelspec": {
      "name": "python3",
      "display_name": "Python 3"
    },
    "language_info": {
      "name": "python"
    }
  },
  "cells": [
    {
      "cell_type": "markdown",
      "metadata": {
        "id": "view-in-github",
        "colab_type": "text"
      },
      "source": [
        "<a href=\"https://colab.research.google.com/github/RomzesKovalev/university/blob/main/practicetasks/%D0%9F%D1%80%D0%B0%D0%BA%D1%82%D0%B8%D1%87%D0%B5%D1%81%D0%BA%D0%B0%D1%8F_%D1%80%D0%B0%D0%B1%D0%BE%D1%82%D0%B0_%E2%84%963_%D0%92%D0%B2%D0%B5%D0%B4%D0%B5%D0%BD%D0%B8%D0%B5_%D0%B2_%D0%9E%D0%9E%D0%9F.ipynb\" target=\"_parent\"><img src=\"https://colab.research.google.com/assets/colab-badge.svg\" alt=\"Open In Colab\"/></a>"
      ]
    },
    {
      "cell_type": "markdown",
      "source": [
        "# **Практическая работа №3. Введение в ООП**\n",
        "\n",
        "\n"
      ],
      "metadata": {
        "id": "s-EuQCpnWXCn"
      }
    },
    {
      "cell_type": "markdown",
      "source": [
        "## **Задание №1. Создайте класс Sphere для представления сферы в трехмерном пространстве**\n"
      ],
      "metadata": {
        "id": "TQ5SpdjdbD4D"
      }
    },
    {
      "cell_type": "markdown",
      "source": [
        "Обеспечьте следующие методы класса:\n",
        "\n",
        "1. Конструктор, принимающий 4 действительных числа: радиус, и 3 координаты центра шара. Если конструктор вызывается без аргументов, создать объект сферы с единичным радиусом и центром в начале координат. Если конструктор вызывается с аргументом, создать объект сферы с соответствующим радиусом и центром в начале координат.\n",
        "\n",
        "2. Метод get_volume (), который возвращает действительное число — объем шара, ограниченной текущей сферой.\n",
        "\n",
        "3. Метод get_square (), который возвращает действительное число — площадь внешней поверхности сферы.\n",
        "\n",
        "4. Метод get_radius (), который возвращает действительное число — радиус сферы.\n",
        "\n",
        "5. Метод get_center (), который возвращает тьюпл с 3 действительными числами — координатами центра сферы в том же порядке, в каком они задаются в конструкторе.\n",
        "\n",
        "6. Метод set_radius (r), который принимает 1 аргумент — действительное число, и меняет радиус текущей сферы, ничего не возвращая.\n",
        "\n",
        "7. Метод set_center (x, y, z), который принимает 3 аргумента — действительных числа, и меняет координаты центра сферы, ничего не возвращая. Координаты задаются в том же порядке, что и в конструкторе.\n",
        "\n",
        "8. Метод is_point_inside (x, y, z), который принимает 3 аргумента — действительных числа — координаты некоторой точки в пространстве (в том же порядке, что и в конструкторе), и возвращает логическое значение True или False в зависимости от того, находится эта точка внутри сферы."
      ],
      "metadata": {
        "id": "Q5Ow51wfASZH"
      }
    },
    {
      "cell_type": "code",
      "source": [
        "# Тесты\n",
        "\n",
        "s0 = Sphere(0.5) # test sphere creation with radius and default center\n",
        "print(s0.get_center()) # (0.0, 0.0, 0.0)\n",
        "print(s0.get_volume()) # 0.523598775598\n",
        "print(s0.is_point_inside(0 , -1.5, 0)) # False\n",
        "s0.set_radius(1.6)\n",
        "print(s0.is_point_inside(0, -1.5, 0)) # True\n",
        "print(s0.get_radius()) # 1.6"
      ],
      "metadata": {
        "id": "xYx3bR2Lbv42",
        "outputId": "4e3147af-9712-42cc-ab2e-1f2a320fd91d",
        "colab": {
          "base_uri": "https://localhost:8080/"
        }
      },
      "execution_count": 8,
      "outputs": [
        {
          "output_type": "stream",
          "name": "stdout",
          "text": [
            "(0, 0, 0)\n",
            "0.5235987755982988\n",
            "False\n",
            "True\n",
            "1.6\n"
          ]
        }
      ]
    },
    {
      "cell_type": "code",
      "source": [
        "import math\n",
        "\n",
        "class Sphere:\n",
        "    def __init__(self, radius=1, x=0, y=0, z=0):\n",
        "        self.radius = radius\n",
        "        self.x = x\n",
        "        self.y = y\n",
        "        self.z = z\n",
        "\n",
        "    def get_volume(self):\n",
        "        return (4/3) * math.pi * self.radius ** 3\n",
        "\n",
        "    def get_square(self):\n",
        "        return 4 * math.pi * self.radius ** 2\n",
        "\n",
        "    def get_radius(self):\n",
        "        return self.radius\n",
        "\n",
        "    def get_center(self):\n",
        "        return (self.x, self.y, self.z)\n",
        "\n",
        "    def set_radius(self, r):\n",
        "        self.radius = r\n",
        "\n",
        "    def set_center(self, x, y, z):\n",
        "        self.x = x\n",
        "        self.y = y\n",
        "        self.z = z\n",
        "\n",
        "    def is_point_inside(self, x, y, z):\n",
        "        distance = math.sqrt((self.x - x)**2 + (self.y - y)**2 + (self.z - z)**2)\n",
        "        return distance <= self.radius"
      ],
      "metadata": {
        "id": "d-vd-AYRdBId"
      },
      "execution_count": 9,
      "outputs": []
    },
    {
      "cell_type": "markdown",
      "source": [
        "## **Задание №2. Создайте класс SuperStr, который наследует стандартный класс str и содержит 2 новых метода:**"
      ],
      "metadata": {
        "id": "UuJ9K_zAcaY_"
      }
    },
    {
      "cell_type": "markdown",
      "source": [
        "1. Метод is_repeatance (s), который принимает 1 аргумент s и возвращает True или False в зависимости от того, может ли текущая строку быть получена целым количеством повторов строки s. Вернуть False, если s не является строкой. Считать, что пустая строка не содержит повторов.\n",
        "\n",
        "2. Метод is_palindrom (), который возвращает True или False в зависимости от того, является ли строка [палиндромом](https://ru.wikipedia.org/wiki/Палиндром). Регистрами символов пренебрегать. Пустую строку считать палиндромом."
      ],
      "metadata": {
        "id": "GX99X81VchPW"
      }
    },
    {
      "cell_type": "code",
      "source": [
        "class SuperStr(str):\n",
        "    def is_repeatance(self, s):\n",
        "        if not isinstance(s, str):\n",
        "            return False\n",
        "        if len(self) == 0 and len(s) == 0:\n",
        "            return True\n",
        "        if len(self) == 0 or len(s) == 0:\n",
        "            return False\n",
        "        if len(self) % len(s) != 0:\n",
        "            return False\n",
        "        for i in range(len(self) // len(s)):\n",
        "            if self[i * len(s) : (i + 1) * len(s)] != s:\n",
        "                return False\n",
        "        return True\n",
        "\n",
        "    def is_palindrom(self):\n",
        "        return self.lower() == self.lower()[::-1]"
      ],
      "metadata": {
        "id": "LtIAKDWFdEcr"
      },
      "execution_count": 10,
      "outputs": []
    },
    {
      "cell_type": "code",
      "source": [
        "# Тесты\n",
        "\n",
        "s = SuperStr(\"123123123123\")\n",
        "print(s.is_repeatance(\"123\")) # True\n",
        "print(s.is_repeatance(\"123123\")) # True\n",
        "print(s.is_repeatance(\"123123123123\")) # True\n",
        "print(s.is_repeatance(\"12312\")) # False\n",
        "print(s.is_repeatance(123)) # False\n",
        "print(s.is_palindrom()) # False\n",
        "print(s) # 123123123123 (строка)\n",
        "print(int(s)) # 123123123123 (целое число)\n",
        "print(s + \"qwe\") # 123123123123qwe\n",
        "p = SuperStr(\"123_321\")\n",
        "print(p.is_palindrom()) # True"
      ],
      "metadata": {
        "id": "oRO3alwicoNp",
        "outputId": "7d19af88-3dd2-49c3-8260-817e3b2ceb14",
        "colab": {
          "base_uri": "https://localhost:8080/"
        }
      },
      "execution_count": 11,
      "outputs": [
        {
          "output_type": "stream",
          "name": "stdout",
          "text": [
            "True\n",
            "True\n",
            "True\n",
            "False\n",
            "False\n",
            "False\n",
            "123123123123\n",
            "123123123123\n",
            "123123123123qwe\n",
            "True\n"
          ]
        }
      ]
    },
    {
      "cell_type": "markdown",
      "source": [
        "## **Задание №3. В коде ниже представлен класс преподавателей и класс студентов (вы можете взять этот код за основу или написать свой).**"
      ],
      "metadata": {
        "id": "m9EGwLY9jZbw"
      }
    },
    {
      "cell_type": "code",
      "source": [
        "class Student:\n",
        "    def __init__(self, name, surname, gender):\n",
        "        self.name = name\n",
        "        self.surname = surname\n",
        "        self.gender = gender\n",
        "        self.finished_courses = []\n",
        "        self.courses_in_progress = []\n",
        "        self.grades = {}\n",
        "\n",
        "    def add_courses(self, course_name):\n",
        "        self.finished_courses.append(course_name)\n",
        "\n",
        "\n",
        "class Mentor:\n",
        "    def __init__(self, name, surname):\n",
        "        self.name = name\n",
        "        self.surname = surname\n",
        "        self.courses_attached = []\n",
        "\n",
        "    def rate_hw(self, student, course, grade):\n",
        "        student.grades[course] = [grade]"
      ],
      "metadata": {
        "id": "PlqK9m7KrT6e"
      },
      "execution_count": 12,
      "outputs": []
    },
    {
      "cell_type": "code",
      "source": [
        "best_student = Student('Ruoy', 'Eman', 'your_gender')\n",
        "cool_mentor = Mentor('Some', 'Buddy')\n",
        "cool_mentor.rate_hw(best_student, 'Python', 10)\n",
        "\n",
        "print(\"Имя студента: \", best_student.name)\n",
        "print(\"Имя преподавателя: \", cool_mentor.name)\n",
        "print(\"Оценки студента по курсам: \", best_student.grades)"
      ],
      "metadata": {
        "colab": {
          "base_uri": "https://localhost:8080/"
        },
        "id": "oNc1-dVaw3ee",
        "outputId": "bdbb902d-5aaa-4525-c492-d6a23afa4673"
      },
      "execution_count": 13,
      "outputs": [
        {
          "output_type": "stream",
          "name": "stdout",
          "text": [
            "Имя студента:  Ruoy\n",
            "Имя преподавателя:  Some\n",
            "Оценки студента по курсам:  {'Python': [10]}\n"
          ]
        }
      ]
    },
    {
      "cell_type": "markdown",
      "source": [
        "### **3.1. Наследование**"
      ],
      "metadata": {
        "id": "08FkYxULrxE-"
      }
    },
    {
      "cell_type": "markdown",
      "source": [
        "* Класс Mentor должен стать родительским классом для преподавателей. От него нужно реализовать наследование классов Lecturer (лекторы) и Reviewer (эксперты, проверяющие домашние задания).\n",
        "\n",
        "> Имя, фамилю и список закрепленных курсов логично реализовать на уровне родительского класса."
      ],
      "metadata": {
        "id": "YNjsCv5ItOii"
      }
    },
    {
      "cell_type": "code",
      "source": [
        "class Lecturer(Mentor):\n",
        "    def lecture(self):\n",
        "        print('Лектор')\n",
        "\n",
        "class Reviewer(Mentor):\n",
        "    def rate_hw(self, student, course, grade):\n",
        "        student.grades[course] = [grade]"
      ],
      "metadata": {
        "id": "1quZPRZKtIoc"
      },
      "execution_count": 14,
      "outputs": []
    },
    {
      "cell_type": "markdown",
      "source": [
        "### **3.2. Атрибуты и взаимодействие классов**"
      ],
      "metadata": {
        "id": "oL8kB-uUtH5K"
      }
    },
    {
      "cell_type": "markdown",
      "source": [
        "* Реализуйте возможность проставления оценок студентам только Reviewer-ам (реализуйте такой метод).\n",
        "\n",
        "* Реализуйте метод выставления оценок лекторам у класса Student (оценки по 10-балльной шкале, хранятся в атрибуте-словаре у Lecturer, в котором ключи – названия курсов, а значения – списки оценок). Лектор при этом должен быть закреплен за тем курсом, на который записан студент (реализовать проверку)."
      ],
      "metadata": {
        "id": "ddcuJFCksWsY"
      }
    },
    {
      "cell_type": "code",
      "source": [
        "class Student:\n",
        "    def __init__(self, name, surname, gender):\n",
        "        self.name = name\n",
        "        self.surname = surname\n",
        "        self.gender = gender\n",
        "        self.finished_courses = []\n",
        "        self.courses_in_progress = []\n",
        "        self.grades = {}\n",
        "        self.lecturer_grades = {}\n",
        "\n",
        "    def add_courses(self, course_name):\n",
        "        self.finished_courses.append(course_name)\n",
        "\n",
        "    def rate_lecturer(self, lecturer, course, grade):\n",
        "        if course in lecturer.pinned_courses:\n",
        "            if course in self.lecturer_grades:\n",
        "                self.lecturer_grades[course].append(grade)\n",
        "            else:\n",
        "                self.lecturer_grades[course] = [grade]\n",
        "        else:\n",
        "            print(f\"Лектор {lecturer.name} {lecturer.surname} не ведет курс {course} для студента {self.name} {self.surname}\")\n",
        "\n",
        "\n",
        "class Mentor:\n",
        "    def __init__(self, name, surname, pinned_courses):\n",
        "        self.name = name\n",
        "        self.surname = surname\n",
        "        self.pinned_courses = pinned_courses\n",
        "\n",
        "\n",
        "class Lecturer(Mentor):\n",
        "    pass\n",
        "\n",
        "\n",
        "class Reviewer(Mentor):\n",
        "    def rate_hw(self, student, course, grade):\n",
        "        if course in student.courses_in_progress:\n",
        "            if course in student.grades:\n",
        "                student.grades[course].append(grade)\n",
        "            else:\n",
        "                student.grades[course] = [grade]\n",
        "        else:\n",
        "            print(f\"Студент {student.name} {student.surname} не изучает курс {course}\")\n",
        "\n",
        "\n",
        "# Пример использования\n",
        "best_student = Student('Ruoy', 'Eman', 'Male')\n",
        "best_student.courses_in_progress = ['Python']\n",
        "cool_reviewer = Reviewer('Some', 'Buddy', [])\n",
        "cool_reviewer.rate_hw(best_student, 'Python', 7)\n",
        "cool_lecturer = Lecturer('John', 'Smith', ['Python'])\n",
        "best_student.rate_lecturer(cool_lecturer, 'Python', 8)\n",
        "\n",
        "\n",
        "print(\"Имя студента:\", best_student.name)\n",
        "print(\"Имя преподавателя:\", cool_lecturer.name)\n",
        "print(\"Оценки студента по курсам:\", best_student.grades)\n",
        "print(\"Оценки студента лекторам:\", best_student.lecturer_grades)"
      ],
      "metadata": {
        "id": "U30yyvuirv6H",
        "outputId": "cdddd9aa-0e9f-4c73-805a-2efd9401ef07",
        "colab": {
          "base_uri": "https://localhost:8080/"
        }
      },
      "execution_count": 15,
      "outputs": [
        {
          "output_type": "stream",
          "name": "stdout",
          "text": [
            "Имя студента: Ruoy\n",
            "Имя преподавателя: John\n",
            "Оценки студента по курсам: {'Python': [7]}\n",
            "Оценки студента лекторам: {'Python': [8]}\n"
          ]
        }
      ]
    },
    {
      "cell_type": "markdown",
      "source": [
        "### **3.3. Полиморфизм и магические методы**"
      ],
      "metadata": {
        "id": "i6PrwEBSu39u"
      }
    },
    {
      "cell_type": "markdown",
      "source": [
        "Перегрузите магический метод \\_\\_str__ у всех классов.\n",
        "У проверяющих он должен выводить информацию в следующем виде:\n",
        "\n",
        "\n",
        "\n",
        "```\n",
        "print(some_reviewer)\n",
        "Имя: Some\n",
        "Фамилия: Buddy\n",
        "```\n",
        "\n",
        "У лекторов:\n",
        "\n",
        "\n",
        "\n",
        "```\n",
        "print(some_lecturer)\n",
        "Имя: Some\n",
        "Фамилия: Buddy\n",
        "Средняя оценка за лекции: 9.9\n",
        "```\n",
        "\n",
        "А у студентов так:\n",
        "\n",
        "\n",
        "\n",
        "```\n",
        "print(some_student)\n",
        "Имя: Ruoy\n",
        "Фамилия: Eman\n",
        "Средняя оценка за домашние задания: 9.9\n",
        "Курсы в процессе изучения: Python, Git\n",
        "Завершенные курсы: Введение в программирование\n",
        "```\n",
        "\n",
        "\n",
        "\n"
      ],
      "metadata": {
        "id": "GvmtjlnmvF8b"
      }
    },
    {
      "cell_type": "code",
      "source": [
        "class Student:\n",
        "    def __init__(self, name, surname, gender):\n",
        "        self.name = name\n",
        "        self.surname = surname\n",
        "        self.gender = gender\n",
        "        self.finished_courses = []\n",
        "        self.courses_in_progress = []\n",
        "        self.grades = {}\n",
        "        self.lecturer_grades = {}\n",
        "\n",
        "    def add_courses(self, course_name):\n",
        "        self.finished_courses.append(course_name)\n",
        "\n",
        "    def rate_lecturer(self, lecturer, course, grade):\n",
        "        if course in lecturer.pinned_courses:\n",
        "            if course in self.lecturer_grades:\n",
        "                self.lecturer_grades[course].append(grade)\n",
        "            else:\n",
        "                self.lecturer_grades[course] = [grade]\n",
        "        else:\n",
        "            print(f\"Лектор {lecturer.name} {lecturer.surname} не ведет курс {course} для студента {self.name} {self.surname}\")\n",
        "\n",
        "    def _calculate_average_grade(self, grades):\n",
        "        if grades:\n",
        "            total_grades = 0\n",
        "            for grade_list in grades.values():\n",
        "                total_grades += sum(grade_list)\n",
        "            total_count = sum(len(grade_list) for grade_list in grades.values())\n",
        "            return round(total_grades / total_count, 1)\n",
        "        return 0.0\n",
        "\n",
        "    def __str__(self):\n",
        "        avg_grade = self._calculate_average_grade(self.grades)\n",
        "        courses_in_progress_str = ', '.join(self.courses_in_progress) if self.courses_in_progress else 'отсутствуют'\n",
        "        finished_courses_str = ', '.join(self.finished_courses) if self.finished_courses else 'отсутствуют'\n",
        "        return (f\"Имя: {self.name}\\n\"f\"Фамилия: {self.surname}\\n\"f\"Средняя оценка за домашние задания: {avg_grade}\\n\"f\"Курсы в процессе изучения: {courses_in_progress_str}\\n\"f\"Завершенные курсы: {finished_courses_str}\")\n",
        "\n",
        "\n",
        "class Mentor:\n",
        "    def __init__(self, name, surname, pinned_courses):\n",
        "        self.name = name\n",
        "        self.surname = surname\n",
        "        self.pinned_courses = pinned_courses\n",
        "\n",
        "    def __str__(self):\n",
        "        return f\"Имя: {self.name}\\nФамилия: {self.surname}\"\n",
        "\n",
        "\n",
        "class Lecturer(Mentor):\n",
        "    def __init__(self, name, surname, pinned_courses):\n",
        "        super().__init__(name, surname, pinned_courses)\n",
        "        self.grades = {}\n",
        "\n",
        "    def _calculate_average_grade(self, grades):\n",
        "        if grades:\n",
        "            total_grades = 0\n",
        "            for grade_list in grades.values():\n",
        "                total_grades += sum(grade_list)\n",
        "            total_count = sum(len(grade_list) for grade_list in grades.values())\n",
        "            return round(total_grades / total_count, 1)\n",
        "        return 0.0\n",
        "\n",
        "    def __str__(self):\n",
        "        avg_grade = self._calculate_average_grade(self.grades)\n",
        "        return f\"Имя: {self.name}\\nФамилия: {self.surname}\\nСредняя оценка за лекции: {avg_grade}\"\n",
        "\n",
        "\n",
        "class Reviewer(Mentor):\n",
        "    def rate_hw(self, student, course, grade):\n",
        "        if course in student.courses_in_progress:\n",
        "            if course in student.grades:\n",
        "                student.grades[course].append(grade)\n",
        "            else:\n",
        "                student.grades[course] = [grade]\n",
        "        else:\n",
        "            print(f\"Студент {student.name} {student.surname} не изучает курс {course}\")\n",
        "\n",
        "\n",
        "some_student = Student('Ruoy', 'Eman', 'Male')\n",
        "some_student.courses_in_progress = ['Python', 'Git']\n",
        "some_student.finished_courses = ['Введение в программирование']\n",
        "some_reviewer = Reviewer('Some', 'Buddy', [])\n",
        "some_reviewer.rate_hw(some_student, 'Python', 7)\n",
        "some_reviewer.rate_hw(some_student, 'Git', 10)\n",
        "some_lecturer = Lecturer('John', 'Smith', ['Python', 'Git'])\n",
        "some_student.rate_lecturer(some_lecturer, 'Python', 8)\n",
        "some_student.rate_lecturer(some_lecturer, 'Git', 9)\n",
        "some_lecturer.grades['Python'] = [8, 9, 10]\n",
        "some_lecturer.grades['Git'] = [7, 8, 9]\n",
        "\n",
        "print('Reviewer:')\n",
        "print(some_reviewer)\n",
        "print()\n",
        "print('Lecturer:')\n",
        "print(some_lecturer)\n",
        "print()\n",
        "print('Student:')\n",
        "print(some_student)"
      ],
      "metadata": {
        "id": "gCJAL_EmwU0b",
        "outputId": "6fe7ab5d-26a7-49cc-ca17-e93ca320248d",
        "colab": {
          "base_uri": "https://localhost:8080/"
        }
      },
      "execution_count": 16,
      "outputs": [
        {
          "output_type": "stream",
          "name": "stdout",
          "text": [
            "Reviewer:\n",
            "Имя: Some\n",
            "Фамилия: Buddy\n",
            "\n",
            "Lecturer:\n",
            "Имя: John\n",
            "Фамилия: Smith\n",
            "Средняя оценка за лекции: 8.5\n",
            "\n",
            "Student:\n",
            "Имя: Ruoy\n",
            "Фамилия: Eman\n",
            "Средняя оценка за домашние задания: 8.5\n",
            "Курсы в процессе изучения: Python, Git\n",
            "Завершенные курсы: Введение в программирование\n"
          ]
        }
      ]
    },
    {
      "cell_type": "markdown",
      "source": [
        "**Реализуйте перегрузку других магических методов на Ваш выбор (не менее трёх), руководствуясь по смыслу контекстом представленных классов (студенты, преподаватели, оценки и т.д.)**"
      ],
      "metadata": {
        "id": "1DNE4TE3vfYI"
      }
    },
    {
      "cell_type": "code",
      "source": [
        "class Student:\n",
        "    def __init__(self, name, surname, gender):\n",
        "        self.name = name\n",
        "        self.surname = surname\n",
        "        self.gender = gender\n",
        "        self.finished_courses = []\n",
        "        self.courses_in_progress = []\n",
        "        self.grades = {}\n",
        "        self.lecturer_grades = {}\n",
        "\n",
        "    def add_courses(self, course_name):\n",
        "        self.finished_courses.append(course_name)\n",
        "\n",
        "    def rate_lecturer(self, lecturer, course, grade):\n",
        "        if course in lecturer.pinned_courses:\n",
        "            if course in self.lecturer_grades:\n",
        "                self.lecturer_grades[course].append(grade)\n",
        "            else:\n",
        "                self.lecturer_grades[course] = [grade]\n",
        "        else:\n",
        "            print(f\"Лектор {lecturer.name} {lecturer.surname} не ведет курс {course} для студента {self.name} {self.surname}\")\n",
        "\n",
        "    def _calculate_average_grade(self, grades):\n",
        "        if grades:\n",
        "            total_grades = 0\n",
        "            for grade_list in grades.values():\n",
        "                total_grades += sum(grade_list)\n",
        "            total_count = sum(len(grade_list) for grade_list in grades.values())\n",
        "            return round(total_grades / total_count, 1)\n",
        "        return 0.0\n",
        "\n",
        "    def __str__(self):\n",
        "        avg_grade = self._calculate_average_grade(self.grades)\n",
        "        courses_in_progress_str = ', '.join(self.courses_in_progress) if self.courses_in_progress else 'отсутствуют'\n",
        "        finished_courses_str = ', '.join(self.finished_courses) if self.finished_courses else 'отсутствуют'\n",
        "        return (f\"Имя: {self.name}\\n\"f\"Фамилия: {self.surname}\\n\"f\"Средняя оценка за домашние задания: {avg_grade}\\n\"f\"Курсы в процессе изучения: {courses_in_progress_str}\\n\"f\"Завершенные курсы: {finished_courses_str}\")\n",
        "\n",
        "    def __eq__(self, other):\n",
        "        if isinstance(other, Student):\n",
        "            return (self.name, self.surname) == (other.name, other.surname)\n",
        "        return False\n",
        "\n",
        "    def __len__(self):\n",
        "        return len(self.courses_in_progress)\n",
        "\n",
        "    def __add__(self, other):\n",
        "        if isinstance(other, Student):\n",
        "            all_courses = set(self.courses_in_progress + other.courses_in_progress)\n",
        "            return f\"Студенты {self.name} {self.surname} и {other.name} {other.surname} вместе изучают курсы: {', '.join(all_courses)}\"\n",
        "        return NotImplemented\n",
        "\n",
        "\n",
        "class Mentor:\n",
        "    def __init__(self, name, surname, pinned_courses):\n",
        "        self.name = name\n",
        "        self.surname = surname\n",
        "        self.pinned_courses = pinned_courses\n",
        "\n",
        "    def __str__(self):\n",
        "        return f\"Имя: {self.name}\\nФамилия: {self.surname}\"\n",
        "\n",
        "    def __lt__(self, other):\n",
        "        if isinstance(other, Mentor):\n",
        "            return (self.surname, self.name) < (other.surname, other.name)\n",
        "        return NotImplemented\n",
        "\n",
        "\n",
        "class Lecturer(Mentor):\n",
        "    def __init__(self, name, surname, pinned_courses):\n",
        "        super().__init__(name, surname, pinned_courses)\n",
        "        self.grades = {}\n",
        "\n",
        "    def _calculate_average_grade(self, grades):\n",
        "        if grades:\n",
        "            total_grades = 0\n",
        "            for grade_list in grades.values():\n",
        "                total_grades += sum(grade_list)\n",
        "            total_count = sum(len(grade_list) for grade_list in grades.values())\n",
        "            return round(total_grades / total_count, 1)\n",
        "        return 0.0\n",
        "\n",
        "    def __str__(self):\n",
        "        avg_grade = self._calculate_average_grade(self.grades)\n",
        "        return f\"Имя: {self.name}\\nФамилия: {self.surname}\\nСредняя оценка за лекции: {avg_grade}\"\n",
        "\n",
        "    def __gt__(self, other):\n",
        "        if isinstance(other, Lecturer):\n",
        "            return self._calculate_average_grade(self.grades) > other._calculate_average_grade(other.grades)\n",
        "        return NotImplemented\n",
        "\n",
        "\n",
        "class Reviewer(Mentor):\n",
        "    def rate_hw(self, student, course, grade):\n",
        "        if course in student.courses_in_progress:\n",
        "            if course in student.grades:\n",
        "                student.grades[course].append(grade)\n",
        "            else:\n",
        "                student.grades[course] = [grade]\n",
        "        else:\n",
        "            print(f\"Студент {student.name} {student.surname} не изучает курс {course}\")\n",
        "\n",
        "\n",
        "# Пример использования\n",
        "some_student = Student('Ruoy', 'Eman', 'Male')\n",
        "some_student.courses_in_progress = ['Python', 'Git']\n",
        "some_student.finished_courses = ['Введение в программирование']\n",
        "second_student = Student('Anna', 'Smith', 'Female')\n",
        "second_student.courses_in_progress = ['Python', 'Java']\n",
        "some_reviewer = Reviewer('Some', 'Buddy', [])\n",
        "some_reviewer.rate_hw(some_student, 'Python', 7)\n",
        "some_reviewer.rate_hw(some_student, 'Git', 10)\n",
        "some_lecturer = Lecturer('John', 'Smith', ['Python', 'Git'])\n",
        "some_student.rate_lecturer(some_lecturer, 'Python', 8)\n",
        "some_student.rate_lecturer(some_lecturer, 'Git', 9)\n",
        "second_lecturer = Lecturer('Jane', 'Doe', ['Java', 'C++'])\n",
        "some_lecturer.grades['Python'] = [8, 9, 10]\n",
        "some_lecturer.grades['Git'] = [7, 8, 9]\n",
        "second_lecturer.grades['Java'] = [9, 10, 10]\n",
        "second_lecturer.grades['C++'] = [8, 7, 9]\n",
        "\n",
        "print('Reviewer:')\n",
        "print(some_reviewer)\n",
        "print()\n",
        "print('Lecturer:')\n",
        "print(some_lecturer)\n",
        "print()\n",
        "print('Student:')\n",
        "print(some_student)\n",
        "\n",
        "print()\n",
        "\n",
        "print(f\"Студенты some_student и second_student равны? - {some_student == second_student}\")\n",
        "same_student = Student(\"Ruoy\", \"Eman\", \"Male\")\n",
        "print(f\"Студенты some_student и same_student равны? - {some_student == same_student}\")\n",
        "\n",
        "print()\n",
        "\n",
        "print(f\"Количество курсов у some_student: {len(some_student)}\")\n",
        "print(f\"Количество курсов у second_student: {len(second_student)}\")\n",
        "\n",
        "print()\n",
        "\n",
        "print(some_student + second_student)\n",
        "\n",
        "print()\n",
        "\n",
        "print(f\"some_reviewer < some_lecturer: {some_reviewer < some_lecturer}\")\n",
        "another_mentor = Mentor('Alice', 'Brown', [])\n",
        "print(f\"some_reviewer < another_mentor: {some_reviewer < another_mentor}\")\n",
        "\n",
        "print()\n",
        "\n",
        "print(f\"some_lecturer > second_lecturer: {some_lecturer > second_lecturer}\")\n",
        "print(f\"second_lecturer > some_lecturer: {second_lecturer > some_lecturer}\")"
      ],
      "metadata": {
        "id": "WNCf9PPMu4Gv",
        "outputId": "05d7649a-d78b-4c3f-8933-98a9c9a97a7d",
        "colab": {
          "base_uri": "https://localhost:8080/"
        }
      },
      "execution_count": 17,
      "outputs": [
        {
          "output_type": "stream",
          "name": "stdout",
          "text": [
            "Reviewer:\n",
            "Имя: Some\n",
            "Фамилия: Buddy\n",
            "\n",
            "Lecturer:\n",
            "Имя: John\n",
            "Фамилия: Smith\n",
            "Средняя оценка за лекции: 8.5\n",
            "\n",
            "Student:\n",
            "Имя: Ruoy\n",
            "Фамилия: Eman\n",
            "Средняя оценка за домашние задания: 8.5\n",
            "Курсы в процессе изучения: Python, Git\n",
            "Завершенные курсы: Введение в программирование\n",
            "\n",
            "Студенты some_student и second_student равны? - False\n",
            "Студенты some_student и same_student равны? - True\n",
            "\n",
            "Количество курсов у some_student: 2\n",
            "Количество курсов у second_student: 2\n",
            "\n",
            "Студенты Ruoy Eman и Anna Smith вместе изучают курсы: Java, Git, Python\n",
            "\n",
            "some_reviewer < some_lecturer: True\n",
            "some_reviewer < another_mentor: False\n",
            "\n",
            "some_lecturer > second_lecturer: False\n",
            "second_lecturer > some_lecturer: True\n"
          ]
        }
      ]
    },
    {
      "cell_type": "markdown",
      "source": [
        "### **3.4. Тестирование**\n",
        "\n",
        "Создайте по 2 экземпляра каждого класса, вызовите все созданные методы, а также реализуйте две функции:\n",
        "\n",
        "* для подсчета средней оценки за домашние задания по всем студентам в рамках конкретного курса (в качестве аргументов принимаем список студентов и название курса);\n",
        "* для подсчета средней оценки за лекции всех лекторов в рамках курса (в качестве аргумента принимаем список лекторов и название курса)."
      ],
      "metadata": {
        "id": "X8xvLNT6u4Nn"
      }
    },
    {
      "cell_type": "code",
      "source": [
        "class Student:\n",
        "    def __init__(self, name, surname, gender):\n",
        "        self.name = name\n",
        "        self.surname = surname\n",
        "        self.gender = gender\n",
        "        self.finished_courses = []\n",
        "        self.courses_in_progress = []\n",
        "        self.grades = {}\n",
        "        self.lecturer_grades = {}\n",
        "\n",
        "    def add_courses(self, course_name):\n",
        "        self.finished_courses.append(course_name)\n",
        "\n",
        "    def rate_lecturer(self, lecturer, course, grade):\n",
        "        if course in lecturer.pinned_courses:\n",
        "            if course in self.lecturer_grades:\n",
        "                self.lecturer_grades[course].append(grade)\n",
        "            else:\n",
        "                self.lecturer_grades[course] = [grade]\n",
        "        else:\n",
        "            print(f\"Лектор {lecturer.name} {lecturer.surname} не ведет курс {course} для студента {self.name} {self.surname}\")\n",
        "\n",
        "    def _calculate_average_grade(self, grades):\n",
        "        if grades:\n",
        "            total_grades = 0\n",
        "            for grade_list in grades.values():\n",
        "                total_grades += sum(grade_list)\n",
        "            total_count = sum(len(grade_list) for grade_list in grades.values())\n",
        "            return round(total_grades / total_count, 1)\n",
        "        return 0.0\n",
        "\n",
        "    def __str__(self):\n",
        "        avg_grade = self._calculate_average_grade(self.grades)\n",
        "        courses_in_progress_str = ', '.join(self.courses_in_progress) if self.courses_in_progress else 'отсутствуют'\n",
        "        finished_courses_str = ', '.join(self.finished_courses) if self.finished_courses else 'отсутствуют'\n",
        "        return (f\"Имя: {self.name}\\n\"f\"Фамилия: {self.surname}\\n\"f\"Средняя оценка за домашние задания: {avg_grade}\\n\"f\"Курсы в процессе изучения: {courses_in_progress_str}\\n\"f\"Завершенные курсы: {finished_courses_str}\")\n",
        "\n",
        "    def __eq__(self, other):\n",
        "        if isinstance(other, Student):\n",
        "            return (self.name, self.surname) == (other.name, other.surname)\n",
        "        return False\n",
        "\n",
        "    def __len__(self):\n",
        "        return len(self.courses_in_progress)\n",
        "\n",
        "    def __add__(self, other):\n",
        "        if isinstance(other, Student):\n",
        "            all_courses = set(self.courses_in_progress + other.courses_in_progress)\n",
        "            return f\"Студенты {self.name} {self.surname} и {other.name} {other.surname} вместе изучают курсы: {', '.join(all_courses)}\"\n",
        "        return NotImplemented\n",
        "\n",
        "\n",
        "class Mentor:\n",
        "    def __init__(self, name, surname, pinned_courses):\n",
        "        self.name = name\n",
        "        self.surname = surname\n",
        "        self.pinned_courses = pinned_courses\n",
        "\n",
        "    def __str__(self):\n",
        "        return f\"Имя: {self.name}\\nФамилия: {self.surname}\"\n",
        "\n",
        "    def __lt__(self, other):\n",
        "        if isinstance(other, Mentor):\n",
        "            return (self.surname, self.name) < (other.surname, other.name)\n",
        "        return NotImplemented\n",
        "\n",
        "\n",
        "class Lecturer(Mentor):\n",
        "    def __init__(self, name, surname, pinned_courses):\n",
        "        super().__init__(name, surname, pinned_courses)\n",
        "        self.grades = {}\n",
        "\n",
        "    def _calculate_average_grade(self, grades):\n",
        "        if grades:\n",
        "            total_grades = 0\n",
        "            for grade_list in grades.values():\n",
        "                total_grades += sum(grade_list)\n",
        "            total_count = sum(len(grade_list) for grade_list in grades.values())\n",
        "            return round(total_grades / total_count, 1)\n",
        "        return 0.0\n",
        "\n",
        "    def __str__(self):\n",
        "        avg_grade = self._calculate_average_grade(self.grades)\n",
        "        return f\"Имя: {self.name}\\nФамилия: {self.surname}\\nСредняя оценка за лекции: {avg_grade}\"\n",
        "\n",
        "    def __gt__(self, other):\n",
        "        if isinstance(other, Lecturer):\n",
        "            return self._calculate_average_grade(self.grades) > other._calculate_average_grade(other.grades)\n",
        "        return NotImplemented\n",
        "\n",
        "\n",
        "class Reviewer(Mentor):\n",
        "    def rate_hw(self, student, course, grade):\n",
        "        if course in student.courses_in_progress:\n",
        "            if course in student.grades:\n",
        "                student.grades[course].append(grade)\n",
        "            else:\n",
        "                student.grades[course] = [grade]\n",
        "        else:\n",
        "            print(f\"Студент {student.name} {student.surname} не изучает курс {course}\")\n",
        "\n",
        "\n",
        "def calculate_average_hw_grade_for_course(students, course):\n",
        "    total_grades = 0\n",
        "    total_count = 0\n",
        "    for student in students:\n",
        "        if course in student.grades:\n",
        "            total_grades += sum(student.grades[course])\n",
        "            total_count += len(student.grades[course])\n",
        "    return round(total_grades / total_count, 1) if total_count > 0 else 0.0\n",
        "\n",
        "\n",
        "def calculate_average_lecturer_grade_for_course(lecturers, course):\n",
        "    total_grades = 0\n",
        "    total_count = 0\n",
        "    for lecturer in lecturers:\n",
        "        if course in lecturer.grades:\n",
        "            total_grades += sum(lecturer.grades[course])\n",
        "            total_count += len(lecturer.grades[course])\n",
        "    return round(total_grades / total_count, 1) if total_count > 0 else 0.0\n",
        "\n",
        "\n",
        "some_student1 = Student('Ruoy', 'Eman', 'Male')\n",
        "some_student1.courses_in_progress = ['Python', 'Git']\n",
        "some_student1.finished_courses = ['Введение в программирование']\n",
        "some_student2 = Student('Anna', 'Smith', 'Female')\n",
        "some_student2.courses_in_progress = ['Python', 'Java']\n",
        "some_reviewer1 = Reviewer('Some', 'Buddy', [])\n",
        "some_reviewer2 = Reviewer('Alice', 'Brown', [])\n",
        "some_lecturer1 = Lecturer('John', 'Smith', ['Python', 'Git'])\n",
        "some_lecturer2 = Lecturer('Jane', 'Doe', ['Java', 'C++'])\n",
        "some_reviewer1.rate_hw(some_student1, 'Python', 7)\n",
        "some_reviewer1.rate_hw(some_student1, 'Git', 10)\n",
        "some_reviewer2.rate_hw(some_student2, 'Python', 9)\n",
        "some_student1.rate_lecturer(some_lecturer1, 'Python', 8)\n",
        "some_student1.rate_lecturer(some_lecturer1, 'Git', 9)\n",
        "some_student2.rate_lecturer(some_lecturer2, 'Java', 10)\n",
        "some_lecturer1.grades['Python'] = [8, 9, 10]\n",
        "some_lecturer1.grades['Git'] = [7, 8, 9]\n",
        "some_lecturer2.grades['Java'] = [9, 10, 10]\n",
        "some_lecturer2.grades['C++'] = [8, 7, 9]\n",
        "\n",
        "print(some_reviewer1)\n",
        "print()\n",
        "\n",
        "print(some_reviewer2)\n",
        "print()\n",
        "\n",
        "print(some_lecturer1)\n",
        "print()\n",
        "\n",
        "print(some_lecturer2)\n",
        "print()\n",
        "\n",
        "print(some_student1)\n",
        "print()\n",
        "\n",
        "print(some_student2)\n",
        "print()\n",
        "\n",
        "print(f\"Студенты some_student1 и some_student2 равны? - {some_student1 == some_student2}\")\n",
        "same_student = Student(\"Ruoy\", \"Eman\", \"Male\")\n",
        "print(f\"Студенты some_student1 и same_student равны? - {some_student1 == same_student}\")\n",
        "\n",
        "print()\n",
        "\n",
        "print(f\"Количество курсов у some_student1: {len(some_student1)}\")\n",
        "print(f\"Количество курсов у some_student2: {len(some_student2)}\")\n",
        "\n",
        "print()\n",
        "\n",
        "print(some_student1 + some_student2)\n",
        "\n",
        "print()\n",
        "\n",
        "print(f\"some_reviewer1 < some_lecturer1: {some_reviewer1 < some_lecturer1}\")\n",
        "another_mentor = Mentor('Alice', 'Brown', [])\n",
        "print(f\"some_reviewer1 < another_mentor: {some_reviewer1 < another_mentor}\")\n",
        "\n",
        "print()\n",
        "\n",
        "print(f\"some_lecturer1 > some_lecturer2: {some_lecturer1 > some_lecturer2}\")\n",
        "print(f\"some_lecturer2 > some_lecturer1: {some_lecturer2 > some_lecturer1}\")\n",
        "\n",
        "print()\n",
        "\n",
        "students = [some_student1, some_student2]\n",
        "lecturers = [some_lecturer1, some_lecturer2]\n",
        "avg_hw_python = calculate_average_hw_grade_for_course(students, 'Python')\n",
        "avg_hw_git = calculate_average_hw_grade_for_course(students, 'Git')\n",
        "avg_hw_java = calculate_average_hw_grade_for_course(students, 'Java')\n",
        "avg_lecturer_python = calculate_average_lecturer_grade_for_course(lecturers, 'Python')\n",
        "avg_lecturer_java = calculate_average_lecturer_grade_for_course(lecturers, 'Java')\n",
        "avg_lecturer_git = calculate_average_lecturer_grade_for_course(lecturers, 'Git')\n",
        "print(f\"Средняя оценка за ДЗ по Python: {avg_hw_python}\")\n",
        "print(f\"Средняя оценка за ДЗ по Git: {avg_hw_git}\")\n",
        "print(f\"Средняя оценка за ДЗ по Java: {avg_hw_java}\")\n",
        "\n",
        "print()\n",
        "\n",
        "print(f\"Средняя оценка за лекции по Python: {avg_lecturer_python}\")\n",
        "print(f\"Средняя оценка за лекции по Java: {avg_lecturer_java}\")\n",
        "print(f\"Средняя оценка за лекции по Git: {avg_lecturer_git}\")"
      ],
      "metadata": {
        "id": "uh8n08fdu4V_",
        "outputId": "f1377b34-15ff-4c4e-adb2-36723a4488d4",
        "colab": {
          "base_uri": "https://localhost:8080/"
        }
      },
      "execution_count": 18,
      "outputs": [
        {
          "output_type": "stream",
          "name": "stdout",
          "text": [
            "Имя: Some\n",
            "Фамилия: Buddy\n",
            "\n",
            "Имя: Alice\n",
            "Фамилия: Brown\n",
            "\n",
            "Имя: John\n",
            "Фамилия: Smith\n",
            "Средняя оценка за лекции: 8.5\n",
            "\n",
            "Имя: Jane\n",
            "Фамилия: Doe\n",
            "Средняя оценка за лекции: 8.8\n",
            "\n",
            "Имя: Ruoy\n",
            "Фамилия: Eman\n",
            "Средняя оценка за домашние задания: 8.5\n",
            "Курсы в процессе изучения: Python, Git\n",
            "Завершенные курсы: Введение в программирование\n",
            "\n",
            "Имя: Anna\n",
            "Фамилия: Smith\n",
            "Средняя оценка за домашние задания: 9.0\n",
            "Курсы в процессе изучения: Python, Java\n",
            "Завершенные курсы: отсутствуют\n",
            "\n",
            "Студенты some_student1 и some_student2 равны? - False\n",
            "Студенты some_student1 и same_student равны? - True\n",
            "\n",
            "Количество курсов у some_student1: 2\n",
            "Количество курсов у some_student2: 2\n",
            "\n",
            "Студенты Ruoy Eman и Anna Smith вместе изучают курсы: Java, Git, Python\n",
            "\n",
            "some_reviewer1 < some_lecturer1: True\n",
            "some_reviewer1 < another_mentor: False\n",
            "\n",
            "some_lecturer1 > some_lecturer2: False\n",
            "some_lecturer2 > some_lecturer1: True\n",
            "\n",
            "Средняя оценка за ДЗ по Python: 8.0\n",
            "Средняя оценка за ДЗ по Git: 10.0\n",
            "Средняя оценка за ДЗ по Java: 0.0\n",
            "\n",
            "Средняя оценка за лекции по Python: 9.0\n",
            "Средняя оценка за лекции по Java: 9.7\n",
            "Средняя оценка за лекции по Git: 8.0\n"
          ]
        }
      ]
    },
    {
      "cell_type": "markdown",
      "source": [
        "## **Задание №4. Перегрузка операторов с помощью магических методов**\n"
      ],
      "metadata": {
        "id": "ehfo80anwJUM"
      }
    },
    {
      "cell_type": "markdown",
      "source": [
        "### **Цель задания:**\n",
        "\n"
      ],
      "metadata": {
        "id": "i_KsKg4awZOJ"
      }
    },
    {
      "cell_type": "markdown",
      "source": [
        "Разработать класс `Fraction` для работы с рациональными числами (дробями), реализовав перегрузку стандартных операторов через переопределение соответствующих магических методов. Ваша задача — обеспечить класс `Fraction` функциональностью, демонстрируемой в приведенном примере кода."
      ],
      "metadata": {
        "id": "JvIIB641watq"
      }
    },
    {
      "cell_type": "markdown",
      "source": [
        "### **Описание задания:**\n",
        "\n"
      ],
      "metadata": {
        "id": "BZ9kMLrYwcW_"
      }
    },
    {
      "cell_type": "markdown",
      "source": [
        "Создайте класс `Fraction`, который представляет собой обыкновенную дробь с числителем и знаменателем. Перегрузите основные арифметические операторы для выполнения операций над дробями, а также операторы сравнения. Обеспечьте возможность преобразования дроби в число с плавающей точкой и обратную операцию. Реализуйте обработку исключений при некорректных данных. Предоставьте понятное строковое и официальное представление дроби."
      ],
      "metadata": {
        "id": "6Qt56A-Bwe87"
      }
    },
    {
      "cell_type": "markdown",
      "source": [
        "**Требования к заданию:**\n"
      ],
      "metadata": {
        "id": "1lv3NnB_whqP"
      }
    },
    {
      "cell_type": "markdown",
      "source": [
        "\n",
        "1. **Класс `Fraction` должен:**\n",
        "\n",
        "   - Инициализироваться двумя целыми числами: числителем и знаменателем.\n",
        "   - Обрабатывать ситуацию когда знаменатель равен нулю, а именно выводить сообщение `\"Знаменатель не может быть нулем\"`.\n",
        "   - Упрощать дроби до несократимых при создании и после каждой арифметической операции.\n",
        "\n",
        "2. **Перегрузить следующие операторы путем переопределения магических методов:**\n",
        "\n",
        "   - **Сложение `+`** (`__add__`): сложение двух дробей, возвращает новую дробь.\n",
        "   - **Вычитание `-`** (`__sub__`): вычитание одной дроби из другой, возвращает новую дробь.\n",
        "   - **Умножение `*`** (`__mul__`): умножение двух дробей, возвращает новую дробь.\n",
        "   - **Деление `/`** (`__truediv__`): деление одной дроби на другую, возвращает новую дробь.\n",
        "   - **Равенство `==`** (`__eq__`): проверка равенства двух дробей.\n",
        "   - **Сравнения `>`, `<`, `>=`, `<=`**: сравнение дробей по их значению, реализовать методы `__lt__`, `__le__`, `__gt__`, `__ge__`.\n",
        "\n",
        "3. **Реализовать преобразование типов:**\n",
        "\n",
        "   - **Метод `__float__`**: преобразование дроби в число с плавающей точкой.\n",
        "\n",
        "4. **Дополнительные методы класса:**\n",
        "\n",
        "   - **`reciprocal()`**: возвращает новую дробь, обратную данной (числитель и знаменатель меняются местами).\n",
        "   - **Строковое представление** (`__str__`): возвращает строку вида `\"числитель/знаменатель\"`. Если знаменатель равен 1, возвращает только числитель в виде строки.\n",
        "   - **Официальное представление** (`__repr__`): возвращает строку вида `\"Fraction(числитель, знаменатель)\"`.\n",
        "\n",
        "5. **Обработка исключений:**\n",
        "\n",
        "   - При попытке создать дробь с нулевым знаменателем выводить в консоль сообщение `ValueError`.\n",
        "   - При попытке деления на нулевую дробь, выводить в консоль сообщение `ZeroDivisionError`.\n",
        "\n",
        "6. **Тестирование:**\n",
        "\n",
        "   - Написать код, демонстрирующий работу всех реализованных методов и операторов, используя примеры, приведенные ниже.\n",
        "   - Обеспечить корректную обработку исключений и вывод соответствующих сообщений.\n",
        "\n",
        "\n",
        "\n"
      ],
      "metadata": {
        "id": "4tJX8suPv0TY"
      }
    },
    {
      "cell_type": "code",
      "source": [
        "import math\n",
        "\n",
        "\n",
        "class Fraction:\n",
        "    def __init__(self, numerator, denominator):\n",
        "        if denominator == 0:\n",
        "            raise ValueError(\"Знаменатель не может быть нулем\")\n",
        "        self.numerator = numerator\n",
        "        self.denominator = denominator\n",
        "        self._simplify()\n",
        "\n",
        "    def _simplify(self):\n",
        "        gcd = math.gcd(self.numerator, self.denominator)\n",
        "        self.numerator //= gcd\n",
        "        self.denominator //= gcd\n",
        "\n",
        "    def __add__(self, other):\n",
        "        if isinstance(other, Fraction):\n",
        "            new_numerator = self.numerator * other.denominator + other.numerator * self.denominator\n",
        "            new_denominator = self.denominator * other.denominator\n",
        "            return Fraction(new_numerator, new_denominator)\n",
        "        return NotImplemented\n",
        "\n",
        "    def __sub__(self, other):\n",
        "        if isinstance(other, Fraction):\n",
        "            new_numerator = self.numerator * other.denominator - other.numerator * self.denominator\n",
        "            new_denominator = self.denominator * other.denominator\n",
        "            return Fraction(new_numerator, new_denominator)\n",
        "        return NotImplemented\n",
        "\n",
        "    def __mul__(self, other):\n",
        "        if isinstance(other, Fraction):\n",
        "            new_numerator = self.numerator * other.numerator\n",
        "            new_denominator = self.denominator * other.denominator\n",
        "            return Fraction(new_numerator, new_denominator)\n",
        "        return NotImplemented\n",
        "\n",
        "    def __truediv__(self, other):\n",
        "        if isinstance(other, Fraction):\n",
        "            if other.numerator == 0:\n",
        "                raise ZeroDivisionError(\"Деление на нулевую дробь\")\n",
        "            new_numerator = self.numerator * other.denominator\n",
        "            new_denominator = self.denominator * other.numerator\n",
        "            return Fraction(new_numerator, new_denominator)\n",
        "        return NotImplemented\n",
        "\n",
        "    def __eq__(self, other):\n",
        "        if isinstance(other, Fraction):\n",
        "            return (self.numerator, self.denominator) == (other.numerator, other.denominator)\n",
        "        return False\n",
        "\n",
        "    def __lt__(self, other):\n",
        "        if isinstance(other, Fraction):\n",
        "            return float(self) < float(other)\n",
        "        return NotImplemented\n",
        "\n",
        "    def __le__(self, other):\n",
        "        if isinstance(other, Fraction):\n",
        "            return float(self) <= float(other)\n",
        "        return NotImplemented\n",
        "\n",
        "    def __gt__(self, other):\n",
        "        if isinstance(other, Fraction):\n",
        "            return float(self) > float(other)\n",
        "        return NotImplemented\n",
        "\n",
        "    def __ge__(self, other):\n",
        "        if isinstance(other, Fraction):\n",
        "            return float(self) >= float(other)\n",
        "        return NotImplemented\n",
        "\n",
        "    def __float__(self):\n",
        "        return self.numerator / self.denominator\n",
        "\n",
        "    def reciprocal(self):\n",
        "        return Fraction(self.denominator, self.numerator)\n",
        "\n",
        "    def __str__(self):\n",
        "        if self.denominator == 1:\n",
        "            return str(self.numerator)\n",
        "        return f\"{self.numerator}/{self.denominator}\"\n",
        "\n",
        "    def __repr__(self):\n",
        "        return f\"Fraction({self.numerator}, {self.denominator})\"\n",
        "\n",
        "    @classmethod\n",
        "    def from_float(cls, value):\n",
        "        if not isinstance(value, float):\n",
        "            raise TypeError(\"Input must be a float\")\n",
        "        if value == 0.0:\n",
        "            return Fraction(0, 1)\n",
        "        decimal_str = str(value)\n",
        "        if '.' not in decimal_str:\n",
        "            return Fraction(int(value), 1)\n",
        "        integer_part, fractional_part = decimal_str.split('.')\n",
        "        denominator = 10 ** len(fractional_part)\n",
        "        numerator = int(integer_part + fractional_part)\n",
        "\n",
        "        return Fraction(numerator, denominator)\n"
      ],
      "metadata": {
        "id": "58JlCtFkxpmU"
      },
      "execution_count": 19,
      "outputs": []
    },
    {
      "cell_type": "markdown",
      "source": [
        "**Тесты для класса `Fraction`:**\n"
      ],
      "metadata": {
        "id": "N5tZxFvIxdIy"
      }
    },
    {
      "cell_type": "code",
      "source": [
        "# Создание дробей\n",
        "f1 = Fraction(3, 4)\n",
        "f2 = Fraction(5, 6)\n",
        "\n",
        "# Сложение дробей\n",
        "f3 = f1 + f2\n",
        "print(f3)  # Ожидаемый вывод: 19/12\n",
        "\n",
        "# Вычитание дробей\n",
        "f4 = f1 - f2\n",
        "print(f4)  # Ожидаемый вывод: -1/12\n",
        "\n",
        "# Умножение дробей\n",
        "f5 = f1 * f2\n",
        "print(f5)  # Ожидаемый вывод: 5/8\n",
        "\n",
        "# Деление дробей\n",
        "f6 = f1 / f2\n",
        "print(f6)  # Ожидаемый вывод: 9/10\n",
        "\n",
        "# Проверка равенства\n",
        "print(f1 == Fraction(6, 8))   # Ожидаемый вывод: True\n",
        "\n",
        "# Сравнение дробей\n",
        "print(f1 > f2)    # Ожидаемый вывод: False\n",
        "print(f1 < f2)    # Ожидаемый вывод: True\n",
        "\n",
        "# Преобразование к float\n",
        "print(float(f1))  # Ожидаемый вывод: 0.75\n",
        "\n",
        "# Обратная дробь\n",
        "f7 = f1.reciprocal()\n",
        "print(f7)         # Ожидаемый вывод: 4/3\n",
        "\n",
        "# Создание дроби из float\n",
        "f8 = Fraction.from_float(0.75)\n",
        "print(f8)         # Ожидаемый вывод: 3/4\n",
        "\n",
        "# Проверка обработки исключений\n",
        "try:\n",
        "    f_invalid = Fraction(5, 0)\n",
        "except ValueError as e:\n",
        "    print(e)  # Ожидаемый вывод: Знаменатель не может быть нулем\n",
        "\n",
        "# Строковое и официальное представление\n",
        "print(str(f1))    # Ожидаемый вывод: 3/4\n",
        "print(repr(f1))   # Ожидаемый вывод: Fraction(3, 4)"
      ],
      "metadata": {
        "id": "U1UtgDM0xlqJ",
        "outputId": "6f63a354-47ee-4db8-8ce6-01ebcc6ae98f",
        "colab": {
          "base_uri": "https://localhost:8080/"
        }
      },
      "execution_count": 20,
      "outputs": [
        {
          "output_type": "stream",
          "name": "stdout",
          "text": [
            "19/12\n",
            "-1/12\n",
            "5/8\n",
            "9/10\n",
            "True\n",
            "False\n",
            "True\n",
            "0.75\n",
            "4/3\n",
            "3/4\n",
            "Знаменатель не может быть нулем\n",
            "3/4\n",
            "Fraction(3, 4)\n"
          ]
        }
      ]
    }
  ]
}